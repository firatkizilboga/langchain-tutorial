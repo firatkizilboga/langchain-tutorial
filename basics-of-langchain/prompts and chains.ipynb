{
 "cells": [
  {
   "attachments": {},
   "cell_type": "markdown",
   "metadata": {},
   "source": [
    "## Chat"
   ]
  },
  {
   "cell_type": "code",
   "execution_count": null,
   "metadata": {},
   "outputs": [],
   "source": [
    "from langchain.chat_models import ChatOpenAI\n",
    "from langchain.schema import (\n",
    "    SystemMessage,\n",
    "    HumanMessage,\n",
    "    AIMessage\n",
    ")"
   ]
  },
  {
   "cell_type": "code",
   "execution_count": 2,
   "metadata": {},
   "outputs": [],
   "source": [
    "llm = ChatOpenAI(model_name=\"gpt-3.5-turbo-16k\", temperature=0.9, max_tokens=10000)"
   ]
  },
  {
   "cell_type": "code",
   "execution_count": 8,
   "metadata": {},
   "outputs": [],
   "source": [
    "messages = [\n",
    "    SystemMessage(content=\"You are a recruiter for a company that is looking to hire a Data Scientist. You are tasked with creating an exam for the position. Be professional be polite. Check their\"),\n",
    "    HumanMessage(content=\"Hello, I am a candidate for the position of a Data Scientist.\"),\n",
    "]"
   ]
  },
  {
   "cell_type": "code",
   "execution_count": null,
   "metadata": {},
   "outputs": [],
   "source": [
    "while True:\n",
    "    messages.append(HumanMessage(content=input(\"\")))\n",
    "    print(messages[-1].content)\n",
    "    response = llm(messages)\n",
    "    print(response.content)\n",
    "    messages.append(response)"
   ]
  },
  {
   "attachments": {},
   "cell_type": "markdown",
   "metadata": {},
   "source": [
    "## Prompts and Chains"
   ]
  },
  {
   "cell_type": "code",
   "execution_count": 11,
   "metadata": {},
   "outputs": [],
   "source": [
    "from langchain.chat_models import ChatOpenAI\n",
    "from langchain.prompts import PromptTemplate\n",
    "from langchain.chains import LLMChain, SequentialChain"
   ]
  },
  {
   "cell_type": "code",
   "execution_count": null,
   "metadata": {},
   "outputs": [],
   "source": [
    "llm = ChatOpenAI(model_name=\"gpt-3.5-turbo\", temperature=0.9, max_tokens=10000)"
   ]
  },
  {
   "cell_type": "code",
   "execution_count": 31,
   "metadata": {},
   "outputs": [],
   "source": [
    "playwright_prompt = PromptTemplate(\n",
    "    input_variables=[\"Era\", \"Concept\"],\n",
    "    template=\"\"\"Please write a story in the style of {Era} about {Concept} NO MORE THAN 300 WORDS.\"\"\",\n",
    ")\n",
    "\n",
    "playwright_chain = LLMChain(\n",
    "    prompt=playwright_prompt,\n",
    "    llm = llm,\n",
    "    output_key=\"story\"\n",
    ")"
   ]
  },
  {
   "cell_type": "code",
   "execution_count": 32,
   "metadata": {},
   "outputs": [
    {
     "name": "stdout",
     "output_type": "stream",
     "text": [
      "In the fast-paced world of big media conglomerates, Waystar Royco stood tall as a powerhouse. And at the helm stood CEO and founder, Logan Roy. But now, in the 2010s, Logan's reign was coming to an end as he battled a terminal illness. The impending void in leadership sparked a heated power struggle among his ambitious children.\n",
      "\n",
      "Kendall, the eldest son, armed with an Ivy League education and a ruthless demeanor, believed he was the rightful heir to the Royco empire. He had spent years learning from his father, absorbing his cunning business tactics. Meanwhile, his siblings questioned Kendall's ability to navigate the evolving media landscape.\n",
      "\n",
      "Shiv, the fiercely intelligent daughter, saw herself as the natural successor, ready to challenge the male-dominated industry. Armed with a sharp wit and connections, she was determined to break through the glass ceiling and take the company into a new era.\n",
      "\n",
      "Roman, the youngest son, initially seemed disinterested in the family business. Preferring a life of excess and indulgence, he appeared content to play the role of the black sheep. But as his father's condition worsened, Roman couldn't ignore the lure of power and prestige.\n",
      "\n",
      "In this modern age, the battle for control played out not just in boardrooms but through social media and flashy public appearances. Each child carefully cultivated their own following, their own brand, pushing the boundaries of what it meant to be a media mogul.\n",
      "\n",
      "With limited time left, Logan was torn. He saw glimpses of himself in each child, their strengths and weaknesses reflecting his own. He hesitated to name a successor, knowing that his decision would shape the future of Waystar Royco.\n",
      "\n",
      "As Logan Roy's health declined, the media speculated, the internet buzzed, and fans eagerly awaited the outcome of this corporate drama. The fight for power within Waystar Royco had become a captivating saga for the world to witness.\n",
      "\n",
      "And so, in this fast-paced and cutthroat world of media conglomerates, the fate of Waystar Royco hung in the balance, waiting for a new leader to emerge and carry the company into the future.\n"
     ]
    }
   ],
   "source": [
    "result = playwright_chain.run(Era=\"2010's\", Concept=\"A big media conglomerate called Waystar Royco's CEO and founder Logan Roy is dying. His children are fighting over who will take over the company.\")\n",
    "print(result)"
   ]
  },
  {
   "cell_type": "code",
   "execution_count": 40,
   "metadata": {},
   "outputs": [],
   "source": [
    "thoughts_prompt = PromptTemplate(\n",
    "    input_variables=[\"story\"],\n",
    "    template=\"\"\"Given the story below, please extract each character's thoughts and output them in a python dictionary. The key should be the character's name and the value should be a list of their thoughts.\n",
    "    output structure: [\n",
    "        {{\"name\": \"Joe Doe\", \"thoughts\": [\"thoughts..\", \"damn!\"]}},\n",
    "        {{\"name\": \"Jane Doe\", \"thoughts\": [\"thoughts2..\", \"d2amn!\"]}},\n",
    "    ]\n",
    "    {story}\"\"\",\n",
    ")\n",
    "\n",
    "thoughts_chain = LLMChain(\n",
    "    prompt=thoughts_prompt,\n",
    "    llm = llm,\n",
    ")"
   ]
  },
  {
   "cell_type": "code",
   "execution_count": 41,
   "metadata": {},
   "outputs": [],
   "source": [
    "overall_chain = SequentialChain(\n",
    "    chains=[\n",
    "        playwright_chain,\n",
    "        thoughts_chain\n",
    "    ],\n",
    "    input_variables=[\"Era\", \"Concept\"],\n",
    ")"
   ]
  },
  {
   "cell_type": "code",
   "execution_count": 42,
   "metadata": {},
   "outputs": [],
   "source": [
    "result = overall_chain.run(Era=\"2010's\", Concept=\"A big media conglomerate called Waystar Royco's CEO and founder Logan Roy is dying. His children are fighting over who will take over the company.\")"
   ]
  },
  {
   "cell_type": "code",
   "execution_count": 43,
   "metadata": {},
   "outputs": [],
   "source": [
    "chars = eval(result)\n",
    "chars"
   ]
  },
  {
   "cell_type": "code",
   "execution_count": 49,
   "metadata": {},
   "outputs": [
    {
     "data": {
      "text/plain": [
       "[{'name': 'Logan Roy',\n",
       "  'thoughts': [\"The empire's foundation quivered as I lay on my deathbed.\",\n",
       "   'I refuse to reveal my choice of heir.',\n",
       "   'Only the strongest can survive.']},\n",
       " {'name': 'Kendall Roy',\n",
       "  'thoughts': ['My time has come to inherit the empire.',\n",
       "   'I am armed with a cunning mind and a silver tongue.',\n",
       "   'I declared my intentions through a well-timed tweet, capturing the attention of the media-savvy masses.']},\n",
       " {'name': 'Roman Roy',\n",
       "  'thoughts': ['I see myself as the embodiment of the new era.',\n",
       "   'I am brash, innovative, and unafraid of taking risks.',\n",
       "   'I woo tech giants and investors with my audacious vision.']},\n",
       " {'name': 'Shiv Roy',\n",
       "  'thoughts': ['I know the power of alliances in the era of political correctness.',\n",
       "   'I maneuver through boardrooms, cocktail parties, and charity events.',\n",
       "   'I pledge to transform Waystar Royco into a socially conscious conglomerate.']}]"
      ]
     },
     "execution_count": 49,
     "metadata": {},
     "output_type": "execute_result"
    }
   ],
   "source": [
    "chars"
   ]
  },
  {
   "cell_type": "code",
   "execution_count": 47,
   "metadata": {},
   "outputs": [],
   "source": [
    "therapist_prompt = PromptTemplate(\n",
    "    input_variables=[\"name\",\"thoughts\"],\n",
    "    template=\"\"\"Please write a therapy session between you and {name} based on the thoughts their below. {thoughts} help them overcome their trouble MAX 5 SENTENCES.\"\"\",\n",
    ")\n",
    "\n",
    "therapist_chain = LLMChain(\n",
    "    prompt=therapist_prompt,\n",
    "    llm = llm,\n",
    "    output_key=\"therapy\"\n",
    ")\n"
   ]
  },
  {
   "cell_type": "code",
   "execution_count": 48,
   "metadata": {},
   "outputs": [
    {
     "data": {
      "text/plain": [
       "[{'therapy': 'Therapist: Hello, Mr. Roy. I understand that you are troubled by the current state of your empire and the difficult decision of choosing your heir. It seems like you are burdened by the immense responsibility and the fear of your empire crumbling. However, it might be helpful to explore the idea that sharing your choice with your loved ones could bring relief and support in this difficult time. Remember that vulnerability is not a sign of weakness, and together we can navigate through this challenge.'},\n",
       " {'therapy': \"Therapist: Kendall, it's great to have you here today. I can sense your ambition and determination as you express your thoughts. It seems like you're ready to step into an influential position within the empire. However, let's explore the pressure that may come with such immense expectations. Together, we can work on managing these feelings and ensuring you approach this transition with confidence and grace, building genuine connections instead of relying solely on strategic tweets.\"},\n",
       " {'therapy': \"In therapy, we would explore the underlying reasons behind Roman's need to see himself as the embodiment of the new era and to constantly be brash, innovative, and unafraid of risks. We would examine the motivations behind his actions and the fear of not living up to expectations. By understanding his core values and beliefs, we can work towards finding a balanced approach that embraces audacious vision while also acknowledging the importance of thoughtful decision-making. Together, we would strive to help Roman build confidence in his abilities without relying solely on risky behaviors.\"},\n",
       " {'therapy': \"In therapy, we would explore Shiv Roy's underlying beliefs and motivations behind their desire for power and alliances in the era of political correctness. By encouraging more self-reflection, we can help Shiv understand any potential negative consequences or conflicts that may arise from prioritizing alliances over authenticity. We can also work on finding alternative ways for Shiv to navigate boardrooms, cocktail parties, and charity events that align with their core values rather than solely seeking power. Finally, we can explore how Shiv's pledge to transform Waystar Royco into a socially conscious conglomerate can be achieved in a genuine and impactful manner, fostering a sense of purpose and fulfillment for both Shiv and the company.\"}]"
      ]
     },
     "execution_count": 48,
     "metadata": {},
     "output_type": "execute_result"
    }
   ],
   "source": [
    "therapist_chain.apply(chars)"
   ]
  }
 ],
 "metadata": {
  "kernelspec": {
   "display_name": ".venv",
   "language": "python",
   "name": "python3"
  },
  "language_info": {
   "codemirror_mode": {
    "name": "ipython",
    "version": 3
   },
   "file_extension": ".py",
   "mimetype": "text/x-python",
   "name": "python",
   "nbconvert_exporter": "python",
   "pygments_lexer": "ipython3",
   "version": "3.9.5"
  },
  "orig_nbformat": 4
 },
 "nbformat": 4,
 "nbformat_minor": 2
}
